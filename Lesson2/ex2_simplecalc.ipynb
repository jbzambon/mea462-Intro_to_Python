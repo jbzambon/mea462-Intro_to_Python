{
 "cells": [
  {
   "cell_type": "code",
   "execution_count": 1,
   "id": "domestic-large",
   "metadata": {},
   "outputs": [],
   "source": [
    "# Exercise 2: ex2_simplecalc.py\n",
    "#\n",
    "# Program to demonstrate usage of Modules, Variables, Calculations,\n",
    "# Assignments, and Arrays\n",
    "#\n",
    "# Joseph B. Zambon\n",
    "#  jbzambon@ncsu.edu\n",
    "#  31 March 2021"
   ]
  },
  {
   "cell_type": "code",
   "execution_count": 2,
   "id": "falling-therapy",
   "metadata": {},
   "outputs": [],
   "source": [
    "# Included modules\n",
    "import numpy  # conda install numpy\n",
    "              # Imported to express various data types\n",
    "import math   # Installed typically by default\n",
    "              # Imported to play with pi to double precision\n",
    "import sys    # Installed typically by default\n",
    "              # Imported to demonstrate memory usage"
   ]
  },
  {
   "cell_type": "code",
   "execution_count": 3,
   "id": "modern-vatican",
   "metadata": {
    "scrolled": false
   },
   "outputs": [
    {
     "name": "stdout",
     "output_type": "stream",
     "text": [
      "This is a \"Hello World\" message.\n"
     ]
    }
   ],
   "source": [
    "print('This is a \"Hello World\" message.')"
   ]
  },
  {
   "cell_type": "code",
   "execution_count": 4,
   "id": "qualified-repository",
   "metadata": {
    "scrolled": true
   },
   "outputs": [
    {
     "name": "stdout",
     "output_type": "stream",
     "text": [
      "This is also a \"Hello World\" message, but first we assigned it as a string variable called \"helloworld\"\n"
     ]
    }
   ],
   "source": [
    "helloworld = 'This is also a \"Hello World\" message, but first we assigned it as a \\\n",
    "string variable called \"helloworld\"'\n",
    "print(helloworld)"
   ]
  },
  {
   "cell_type": "code",
   "execution_count": 5,
   "id": "precise-weapon",
   "metadata": {},
   "outputs": [
    {
     "name": "stdout",
     "output_type": "stream",
     "text": [
      "This is a really, really long string variable but we're going to break it up\n",
      "over 3 lines with a continuation character in the code and a newline character\n",
      "in the variable.\n"
     ]
    }
   ],
   "source": [
    "longline = 'This is a really, really long string variable but we\\'re going to break it up\\\n",
    "\\nover 3 lines with a continuation character in the code and a newline character\\\n",
    "\\nin the variable.'\n",
    "print(longline)"
   ]
  },
  {
   "cell_type": "code",
   "execution_count": 6,
   "id": "selective-second",
   "metadata": {},
   "outputs": [
    {
     "name": "stdout",
     "output_type": "stream",
     "text": [
      "But hey, what if I want to actually pring any of these special characters?\n",
      "Easy!  Just escape it with a backslash (\\) like this... \\n\n"
     ]
    }
   ],
   "source": [
    "longerline = 'But hey, what if I want to actually pring any of these special characters?\\\n",
    "\\nEasy!  Just escape it with a backslash (\\\\) like this... \\\\n'\n",
    "print(longerline)"
   ]
  },
  {
   "cell_type": "code",
   "execution_count": 7,
   "id": "incident-detector",
   "metadata": {},
   "outputs": [
    {
     "name": "stdout",
     "output_type": "stream",
     "text": [
      "This is another really long string but I'm going to format it\n",
      "such that my variables are easily readable by someone scanning\n",
      "through my code.\n"
     ]
    }
   ],
   "source": [
    "concatenated_string = 'This is another really long string but I\\'m going to format it\\n' + \\\n",
    "                      'such that my variables are easily readable by someone scanning\\n' + \\\n",
    "                      'through my code.'\n",
    "print(concatenated_string)"
   ]
  },
  {
   "cell_type": "code",
   "execution_count": 8,
   "id": "norwegian-product",
   "metadata": {},
   "outputs": [
    {
     "data": {
      "text/plain": [
       "str"
      ]
     },
     "execution_count": 8,
     "metadata": {},
     "output_type": "execute_result"
    }
   ],
   "source": [
    "type(concatenated_string)"
   ]
  },
  {
   "cell_type": "code",
   "execution_count": 9,
   "id": "located-bonus",
   "metadata": {},
   "outputs": [
    {
     "name": "stdout",
     "output_type": "stream",
     "text": [
      "3.141592653589793\n"
     ]
    }
   ],
   "source": [
    "print(math.pi)"
   ]
  },
  {
   "cell_type": "code",
   "execution_count": 10,
   "id": "supreme-tradition",
   "metadata": {},
   "outputs": [
    {
     "name": "stdout",
     "output_type": "stream",
     "text": [
      "3.141592653589793\n",
      "3\n"
     ]
    }
   ],
   "source": [
    "precise_pi = math.pi\n",
    "print(precise_pi)\n",
    "int8_pi = numpy.int8(precise_pi)\n",
    "print(int8_pi)"
   ]
  },
  {
   "cell_type": "code",
   "execution_count": 11,
   "id": "crazy-torture",
   "metadata": {},
   "outputs": [
    {
     "name": "stdout",
     "output_type": "stream",
     "text": [
      "Signed integers\n",
      "int8_pi   consumes 25 bytes and represents pi as: 3.1\n",
      "int16_pi  consumes 26 bytes and represents pi as: 3.1415\n",
      "int32_pi  consumes 28 bytes and represents pi as: 3.14159265\n",
      "int64_pi  consumes 32 bytes and represents pi as: 3.141592653589793\n",
      "\n",
      "Unsigned integers\n",
      "uint8_pi  consumes 25 bytes and represents pi as: 3.1\n",
      "uint16_pi consumes 26 bytes and represents pi as: 3.1415\n",
      "uint32_pi consumes 28 bytes and represents pi as: 3.141592653\n",
      "uint64_pi consumes 32 bytes and represents pi as: 3.141592653589793\n"
     ]
    }
   ],
   "source": [
    "# Various precisions of pi and memory usage\n",
    "#Signed integers (positive or negative)\n",
    "print('Signed integers')\n",
    "int8_pi = numpy.int8(math.pi * 10**1) #(-128 to 127)\n",
    "print('int8_pi   consumes ' + str(sys.getsizeof(int8_pi)) + ' bytes ' + \\\n",
    "      'and represents pi as: ' + str(int8_pi / 10**1))\n",
    "int16_pi = numpy.int16(math.pi * 10**4) #(-32768 to 32767)\n",
    "print('int16_pi  consumes ' + str(sys.getsizeof(int16_pi)) + ' bytes ' + \\\n",
    "      'and represents pi as: ' + str(int16_pi / 10**4))\n",
    "int32_pi = numpy.int32(math.pi * 10**8) #(-2147483648 to 2147483647)\n",
    "print('int32_pi  consumes ' + str(sys.getsizeof(int32_pi)) + ' bytes ' + \\\n",
    "      'and represents pi as: ' + str(int32_pi/10**8))\n",
    "int64_pi = numpy.int64(math.pi * 10**16) #(-9223372036854775808 to 9223372036854775807)\n",
    "print('int64_pi  consumes ' + str(sys.getsizeof(int64_pi)) + ' bytes ' + \\\n",
    "      'and represents pi as: ' + str(int64_pi / 10**16))\n",
    "\n",
    "#Unsigned integers (positive-only)\n",
    "print('\\nUnsigned integers')\n",
    "uint8_pi = numpy.uint8(math.pi * 10**1) #(0 to 255)\n",
    "print('uint8_pi  consumes ' + str(sys.getsizeof(uint8_pi)) + ' bytes ' + \\\n",
    "      'and represents pi as: ' + str(uint8_pi / 10**1))\n",
    "uint16_pi = numpy.uint16(math.pi * 10**4) #(0 to 65535)\n",
    "print('uint16_pi consumes ' + str(sys.getsizeof(uint16_pi)) + ' bytes ' + \\\n",
    "      'and represents pi as: ' + str(uint16_pi / 10**4))\n",
    "uint32_pi = numpy.uint32(math.pi * 10**9) #(0 to 4294967295)\n",
    "print('uint32_pi consumes ' + str(sys.getsizeof(uint32_pi)) + ' bytes ' + \\\n",
    "      'and represents pi as: ' + str(uint32_pi / 10**9))\n",
    "uint64_pi = numpy.uint64(math.pi * 10**16) #(0 to 18446744073709551615)\n",
    "print('uint64_pi consumes ' + str(sys.getsizeof(uint64_pi)) + ' bytes ' + \\\n",
    "      'and represents pi as: ' + str(uint64_pi / 10**16))"
   ]
  },
  {
   "cell_type": "code",
   "execution_count": 12,
   "id": "scheduled-asthma",
   "metadata": {},
   "outputs": [
    {
     "name": "stdout",
     "output_type": "stream",
     "text": [
      "58\n",
      "int8_pi   consumes 25 bytes and represents pi as: 3.14\n"
     ]
    }
   ],
   "source": [
    "# Extend beyond allowable range of int8\n",
    "\n",
    "int8_extended = numpy.int8(math.pi * 10**2) #(-128 to 127)\n",
    "print(int8_extended)\n",
    "print('int8_pi   consumes ' + str(sys.getsizeof(int8_extended)) + ' bytes ' + \\\n",
    "      'and represents pi as: ' + str((int8_extended + 256) / 10**2))"
   ]
  },
  {
   "cell_type": "code",
   "execution_count": 13,
   "id": "apart-medicine",
   "metadata": {},
   "outputs": [
    {
     "name": "stdout",
     "output_type": "stream",
     "text": [
      "314\n",
      "int8_pi   consumes 25 bytes and represents pi as: 3.14\n"
     ]
    }
   ],
   "source": [
    "# Extend beyond allowable range of int8\n",
    "\n",
    "int8_extended = numpy.int8(math.pi * 10**2) #(-128 to 127)\n",
    "print(int8_extended + 256)\n",
    "print('int8_pi   consumes ' + str(sys.getsizeof(int8_extended)) + ' bytes ' + \\\n",
    "      'and represents pi as: ' + str((int8_extended + 256) / 10**2))"
   ]
  },
  {
   "cell_type": "code",
   "execution_count": 14,
   "id": "polyphonic-numbers",
   "metadata": {},
   "outputs": [
    {
     "name": "stdout",
     "output_type": "stream",
     "text": [
      "Floats\n",
      "float16_pi consumes 26 bytes and represents pi as: 3.14\n",
      "float32_pi consumes 28 bytes and represents pi as: 3.1415927\n",
      "float64_pi consumes 32 bytes and represents pi as: 3.141592653589793\n"
     ]
    }
   ],
   "source": [
    "#Floats (decimal precision)\n",
    "print('Floats')\n",
    "float16_pi = numpy.float16(math.pi) #(0 to 255)\n",
    "print('float16_pi consumes ' + str(sys.getsizeof(float16_pi)) + ' bytes ' + \\\n",
    "      'and represents pi as: ' + str(float16_pi))\n",
    "float32_pi = numpy.float32(math.pi) #(0 to 65535)\n",
    "print('float32_pi consumes ' + str(sys.getsizeof(float32_pi)) + ' bytes ' + \\\n",
    "      'and represents pi as: ' + str(float32_pi))\n",
    "float64_pi = numpy.float64(math.pi) #(0 to 4294967295)\n",
    "print('float64_pi consumes ' + str(sys.getsizeof(float64_pi)) + ' bytes ' + \\\n",
    "      'and represents pi as: ' + str(float64_pi))"
   ]
  },
  {
   "cell_type": "code",
   "execution_count": 15,
   "id": "comic-segment",
   "metadata": {},
   "outputs": [
    {
     "name": "stdout",
     "output_type": "stream",
     "text": [
      "The range of radii for the oblate-spheroid Earth is between:\n",
      "                                                             6353km and 6384km\n",
      "The calculated mean radius of the earth is:\n",
      "                                                             6368.5km\n",
      "Using 3.14, the calculated mean circumference of the earth is:\n",
      "                                                             40002.140625km\n",
      "Using 3.1415927, the calculated mean circumference of the earth is:\n",
      "                                                             40014.466742277145km\n",
      "Using 3.141592653589793, the calculated mean circumference of the earth is:\n",
      "                                                             40014.46562877319km\n"
     ]
    }
   ],
   "source": [
    "# Efficiently calculate the circumference of the Earth using\n",
    "#  different precisions of pi\n",
    "\n",
    "earth_radii = numpy.array([6353,6384])  #The earth is an oblate-spheroid, its\n",
    "                                        #radius actually increases from pole to\n",
    "                                        #equator.  Define an array with the\n",
    "                                        #minimum (pole) and maximum (equator) radii\n",
    "print('The range of radii for the oblate-spheroid Earth is between:\\n' + \\\n",
    "      '                                                             ' + \\\n",
    "      str(earth_radii[0]) + 'km and ' + str(earth_radii[1]) + 'km')\n",
    "earth_radius = numpy.mean(earth_radii)  #Simply use the mean of the radii\n",
    "print('The calculated mean radius of the earth is:\\n' + \\\n",
    "      '                                                             ' + \\\n",
    "      str(earth_radius) + 'km')\n",
    "#Floats (decimal precision)\n",
    "float16_pi = numpy.float16(math.pi) #(0 to 255)\n",
    "float16_circ = 2 * float16_pi * earth_radius\n",
    "print('Using ' + str(float16_pi) + ', the calculated mean circumference of the earth is:\\n' + \\\n",
    "      '                                                             ' + \\\n",
    "      str(float16_circ) + 'km')\n",
    "float32_pi = numpy.float32(math.pi) #(0 to 65535)\n",
    "float32_circ = 2 * float32_pi * earth_radius\n",
    "print('Using ' + str(float32_pi) + ', the calculated mean circumference of the earth is:\\n' + \\\n",
    "      '                                                             ' + \\\n",
    "      str(float32_circ) + 'km')\n",
    "float64_pi = numpy.float64(math.pi) #(0 to 4294967295)\n",
    "float64_circ = 2 * float64_pi * earth_radius\n",
    "print('Using ' + str(float64_pi) + ', the calculated mean circumference of the earth is:\\n' + \\\n",
    "      '                                                             ' + \\\n",
    "      str(float64_circ) + 'km')\n"
   ]
  },
  {
   "cell_type": "code",
   "execution_count": 16,
   "id": "mobile-samoa",
   "metadata": {
    "scrolled": true
   },
   "outputs": [
    {
     "name": "stdout",
     "output_type": "stream",
     "text": [
      "The difference between float16 and float32 is: 12.326117277145386\n",
      "The difference between float16 and float64 is: 12.325003773192293\n",
      "The difference between float32 and float64 is: 0.0011135039530927315\n"
     ]
    }
   ],
   "source": [
    "print('The difference between float16 and float32 is: ' + str(abs(float16_circ-float32_circ)))\n",
    "print('The difference between float16 and float64 is: ' + str(abs(float16_circ-float64_circ)))\n",
    "print('The difference between float32 and float64 is: ' + str(abs(float32_circ-float64_circ)))"
   ]
  },
  {
   "cell_type": "code",
   "execution_count": 17,
   "id": "extreme-minute",
   "metadata": {},
   "outputs": [],
   "source": [
    "# Included modules (shortened version)\n",
    "import numpy as np         # conda install numpy\n",
    "                           # Imported to express various data types\n",
    "import math                # Installed typically by default\n",
    "                           # Imported to play with pi to double precision\n",
    "from sys import getsizeof  # Installed typically by default\n",
    "                           # Imported to demonstrate memory usage"
   ]
  },
  {
   "cell_type": "code",
   "execution_count": 18,
   "id": "operational-leone",
   "metadata": {},
   "outputs": [
    {
     "name": "stdout",
     "output_type": "stream",
     "text": [
      "Floats\n",
      "float16_pi consumes 26 bytes and represents pi as: 3.14\n",
      "float32_pi consumes 28 bytes and represents pi as: 3.1415927\n",
      "float64_pi consumes 32 bytes and represents pi as: 3.141592653589793\n"
     ]
    }
   ],
   "source": [
    "#Floats (decimal precision)\n",
    "print('Floats')\n",
    "float16_pi = np.float16(math.pi) #(0 to 255)\n",
    "print('float16_pi consumes ' + str(getsizeof(float16_pi)) + ' bytes ' + \\\n",
    "      'and represents pi as: ' + str(float16_pi))\n",
    "float32_pi = np.float32(math.pi) #(0 to 65535)\n",
    "print('float32_pi consumes ' + str(getsizeof(float32_pi)) + ' bytes ' + \\\n",
    "      'and represents pi as: ' + str(float32_pi))\n",
    "float64_pi = np.float64(math.pi) #(0 to 4294967295)\n",
    "print('float64_pi consumes ' + str(getsizeof(float64_pi)) + ' bytes ' + \\\n",
    "      'and represents pi as: ' + str(float64_pi))"
   ]
  },
  {
   "cell_type": "code",
   "execution_count": null,
   "id": "painted-architect",
   "metadata": {},
   "outputs": [],
   "source": []
  }
 ],
 "metadata": {
  "kernelspec": {
   "display_name": "Python 3",
   "language": "python",
   "name": "python3"
  },
  "language_info": {
   "codemirror_mode": {
    "name": "ipython",
    "version": 3
   },
   "file_extension": ".py",
   "mimetype": "text/x-python",
   "name": "python",
   "nbconvert_exporter": "python",
   "pygments_lexer": "ipython3",
   "version": "3.8.8"
  }
 },
 "nbformat": 4,
 "nbformat_minor": 5
}
