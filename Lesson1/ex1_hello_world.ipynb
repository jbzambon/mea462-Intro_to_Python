{
 "cells": [
  {
   "cell_type": "code",
   "execution_count": 1,
   "id": "apart-archive",
   "metadata": {},
   "outputs": [],
   "source": [
    "# My first Python program\n",
    "#\n",
    "# Joseph B. Zambon\n",
    "#  jbzambon@ncsu.edu\n",
    "#  28 March 2021"
   ]
  },
  {
   "cell_type": "code",
   "id": "accomplished-genesis",
   "metadata": {},
   "outputs": [
    {
     "name": "stdout",
     "output_type": "stream",
     "text": [
      "Hello World.\n"
     ]
    }
   ],
   "source": [
    "print('Hello World.')"
   ]
  }
 ],
 "metadata": {
  "kernelspec": {
   "display_name": "Python 3",
   "language": "python",
   "name": "python3"
  },
  "language_info": {
   "codemirror_mode": {
    "name": "ipython",
    "version": 3
   },
   "file_extension": ".py",
   "mimetype": "text/x-python",
   "name": "python",
   "nbconvert_exporter": "python",
   "pygments_lexer": "ipython3",
   "version": "3.8.8"
  }
 },
 "nbformat": 4,
 "nbformat_minor": 5
}
